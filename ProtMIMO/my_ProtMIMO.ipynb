{
 "cells": [
  {
   "cell_type": "code",
   "execution_count": 1,
   "metadata": {
    "colab": {
     "base_uri": "https://localhost:8080/"
    },
    "id": "Dsiwd5p5b3zG",
    "outputId": "a1570697-3a54-4f13-b44c-2c1e025a7860"
   },
   "outputs": [
    {
     "name": "stdout",
     "output_type": "stream",
     "text": [
      "fatal: destination path 'ProtMIMO-CodingChallenge' already exists and is not an empty directory.\n"
     ]
    }
   ],
   "source": [
    "!git clone https://github.com/amirshane/ProtMIMO-CodingChallenge.git"
   ]
  },
  {
   "cell_type": "code",
   "execution_count": 2,
   "metadata": {
    "colab": {
     "base_uri": "https://localhost:8080/"
    },
    "id": "LqC1-vk3cpdx",
    "outputId": "57ae9669-9336-4edc-f64c-10d2af498364"
   },
   "outputs": [
    {
     "name": "stdout",
     "output_type": "stream",
     "text": [
      "Looking in indexes: https://pypi.org/simple, https://us-python.pkg.dev/colab-wheels/public/simple/\n",
      "Obtaining file:///content/ProtMIMO-CodingChallenge\n",
      "Requirement already satisfied: pandas==1.3.5 in /usr/local/lib/python3.7/dist-packages (from ProtMIMO==1.0) (1.3.5)\n",
      "Requirement already satisfied: scikit-learn==1.0.2 in /usr/local/lib/python3.7/dist-packages (from ProtMIMO==1.0) (1.0.2)\n",
      "Requirement already satisfied: seaborn==0.11.2 in /usr/local/lib/python3.7/dist-packages (from ProtMIMO==1.0) (0.11.2)\n",
      "Requirement already satisfied: sklearn==0.0 in /usr/local/lib/python3.7/dist-packages (from ProtMIMO==1.0) (0.0)\n",
      "Requirement already satisfied: tape-proteins==0.5 in /usr/local/lib/python3.7/dist-packages (from ProtMIMO==1.0) (0.5)\n",
      "Requirement already satisfied: tensorboard==2.10.1 in /usr/local/lib/python3.7/dist-packages (from ProtMIMO==1.0) (2.10.1)\n",
      "Requirement already satisfied: numpy>=1.17.3 in /usr/local/lib/python3.7/dist-packages (from pandas==1.3.5->ProtMIMO==1.0) (1.21.6)\n",
      "Requirement already satisfied: python-dateutil>=2.7.3 in /usr/local/lib/python3.7/dist-packages (from pandas==1.3.5->ProtMIMO==1.0) (2.8.2)\n",
      "Requirement already satisfied: pytz>=2017.3 in /usr/local/lib/python3.7/dist-packages (from pandas==1.3.5->ProtMIMO==1.0) (2022.5)\n",
      "Requirement already satisfied: joblib>=0.11 in /usr/local/lib/python3.7/dist-packages (from scikit-learn==1.0.2->ProtMIMO==1.0) (1.2.0)\n",
      "Requirement already satisfied: threadpoolctl>=2.0.0 in /usr/local/lib/python3.7/dist-packages (from scikit-learn==1.0.2->ProtMIMO==1.0) (3.1.0)\n",
      "Requirement already satisfied: scipy>=1.1.0 in /usr/local/lib/python3.7/dist-packages (from scikit-learn==1.0.2->ProtMIMO==1.0) (1.7.3)\n",
      "Requirement already satisfied: matplotlib>=2.2 in /usr/local/lib/python3.7/dist-packages (from seaborn==0.11.2->ProtMIMO==1.0) (3.1.3)\n",
      "Requirement already satisfied: tqdm in /usr/local/lib/python3.7/dist-packages (from tape-proteins==0.5->ProtMIMO==1.0) (4.64.1)\n",
      "Requirement already satisfied: tensorboardX in /usr/local/lib/python3.7/dist-packages (from tape-proteins==0.5->ProtMIMO==1.0) (2.5.1)\n",
      "Requirement already satisfied: boto3 in /usr/local/lib/python3.7/dist-packages (from tape-proteins==0.5->ProtMIMO==1.0) (1.25.4)\n",
      "Requirement already satisfied: lmdb in /usr/local/lib/python3.7/dist-packages (from tape-proteins==0.5->ProtMIMO==1.0) (0.99)\n",
      "Requirement already satisfied: biopython in /usr/local/lib/python3.7/dist-packages (from tape-proteins==0.5->ProtMIMO==1.0) (1.79)\n",
      "Requirement already satisfied: requests in /usr/local/lib/python3.7/dist-packages (from tape-proteins==0.5->ProtMIMO==1.0) (2.23.0)\n",
      "Requirement already satisfied: filelock in /usr/local/lib/python3.7/dist-packages (from tape-proteins==0.5->ProtMIMO==1.0) (3.8.0)\n",
      "Requirement already satisfied: tensorboard-plugin-wit>=1.6.0 in /usr/local/lib/python3.7/dist-packages (from tensorboard==2.10.1->ProtMIMO==1.0) (1.8.1)\n",
      "Requirement already satisfied: markdown>=2.6.8 in /usr/local/lib/python3.7/dist-packages (from tensorboard==2.10.1->ProtMIMO==1.0) (3.4.1)\n",
      "Requirement already satisfied: protobuf<3.20,>=3.9.2 in /usr/local/lib/python3.7/dist-packages (from tensorboard==2.10.1->ProtMIMO==1.0) (3.17.3)\n",
      "Requirement already satisfied: wheel>=0.26 in /usr/local/lib/python3.7/dist-packages (from tensorboard==2.10.1->ProtMIMO==1.0) (0.37.1)\n",
      "Requirement already satisfied: tensorboard-data-server<0.7.0,>=0.6.0 in /usr/local/lib/python3.7/dist-packages (from tensorboard==2.10.1->ProtMIMO==1.0) (0.6.1)\n",
      "Requirement already satisfied: google-auth-oauthlib<0.5,>=0.4.1 in /usr/local/lib/python3.7/dist-packages (from tensorboard==2.10.1->ProtMIMO==1.0) (0.4.6)\n",
      "Requirement already satisfied: setuptools>=41.0.0 in /usr/local/lib/python3.7/dist-packages (from tensorboard==2.10.1->ProtMIMO==1.0) (57.4.0)\n",
      "Requirement already satisfied: grpcio>=1.24.3 in /usr/local/lib/python3.7/dist-packages (from tensorboard==2.10.1->ProtMIMO==1.0) (1.50.0)\n",
      "Requirement already satisfied: absl-py>=0.4 in /usr/local/lib/python3.7/dist-packages (from tensorboard==2.10.1->ProtMIMO==1.0) (1.3.0)\n",
      "Requirement already satisfied: werkzeug>=1.0.1 in /usr/local/lib/python3.7/dist-packages (from tensorboard==2.10.1->ProtMIMO==1.0) (1.0.1)\n",
      "Requirement already satisfied: google-auth<3,>=1.6.3 in /usr/local/lib/python3.7/dist-packages (from tensorboard==2.10.1->ProtMIMO==1.0) (1.35.0)\n",
      "Requirement already satisfied: pyasn1-modules>=0.2.1 in /usr/local/lib/python3.7/dist-packages (from google-auth<3,>=1.6.3->tensorboard==2.10.1->ProtMIMO==1.0) (0.2.8)\n",
      "Requirement already satisfied: cachetools<5.0,>=2.0.0 in /usr/local/lib/python3.7/dist-packages (from google-auth<3,>=1.6.3->tensorboard==2.10.1->ProtMIMO==1.0) (4.2.4)\n",
      "Requirement already satisfied: rsa<5,>=3.1.4 in /usr/local/lib/python3.7/dist-packages (from google-auth<3,>=1.6.3->tensorboard==2.10.1->ProtMIMO==1.0) (4.9)\n",
      "Requirement already satisfied: six>=1.9.0 in /usr/local/lib/python3.7/dist-packages (from google-auth<3,>=1.6.3->tensorboard==2.10.1->ProtMIMO==1.0) (1.15.0)\n",
      "Requirement already satisfied: requests-oauthlib>=0.7.0 in /usr/local/lib/python3.7/dist-packages (from google-auth-oauthlib<0.5,>=0.4.1->tensorboard==2.10.1->ProtMIMO==1.0) (1.3.1)\n",
      "Requirement already satisfied: importlib-metadata>=4.4 in /usr/local/lib/python3.7/dist-packages (from markdown>=2.6.8->tensorboard==2.10.1->ProtMIMO==1.0) (4.13.0)\n",
      "Requirement already satisfied: zipp>=0.5 in /usr/local/lib/python3.7/dist-packages (from importlib-metadata>=4.4->markdown>=2.6.8->tensorboard==2.10.1->ProtMIMO==1.0) (3.9.0)\n",
      "Requirement already satisfied: typing-extensions>=3.6.4 in /usr/local/lib/python3.7/dist-packages (from importlib-metadata>=4.4->markdown>=2.6.8->tensorboard==2.10.1->ProtMIMO==1.0) (4.1.1)\n",
      "Requirement already satisfied: pyparsing!=2.0.4,!=2.1.2,!=2.1.6,>=2.0.1 in /usr/local/lib/python3.7/dist-packages (from matplotlib>=2.2->seaborn==0.11.2->ProtMIMO==1.0) (3.0.9)\n",
      "Requirement already satisfied: cycler>=0.10 in /usr/local/lib/python3.7/dist-packages (from matplotlib>=2.2->seaborn==0.11.2->ProtMIMO==1.0) (0.11.0)\n",
      "Requirement already satisfied: kiwisolver>=1.0.1 in /usr/local/lib/python3.7/dist-packages (from matplotlib>=2.2->seaborn==0.11.2->ProtMIMO==1.0) (1.4.4)\n",
      "Requirement already satisfied: pyasn1<0.5.0,>=0.4.6 in /usr/local/lib/python3.7/dist-packages (from pyasn1-modules>=0.2.1->google-auth<3,>=1.6.3->tensorboard==2.10.1->ProtMIMO==1.0) (0.4.8)\n",
      "Requirement already satisfied: urllib3!=1.25.0,!=1.25.1,<1.26,>=1.21.1 in /usr/local/lib/python3.7/dist-packages (from requests->tape-proteins==0.5->ProtMIMO==1.0) (1.25.11)\n",
      "Requirement already satisfied: certifi>=2017.4.17 in /usr/local/lib/python3.7/dist-packages (from requests->tape-proteins==0.5->ProtMIMO==1.0) (2022.9.24)\n",
      "Requirement already satisfied: chardet<4,>=3.0.2 in /usr/local/lib/python3.7/dist-packages (from requests->tape-proteins==0.5->ProtMIMO==1.0) (3.0.4)\n",
      "Requirement already satisfied: idna<3,>=2.5 in /usr/local/lib/python3.7/dist-packages (from requests->tape-proteins==0.5->ProtMIMO==1.0) (2.10)\n",
      "Requirement already satisfied: oauthlib>=3.0.0 in /usr/local/lib/python3.7/dist-packages (from requests-oauthlib>=0.7.0->google-auth-oauthlib<0.5,>=0.4.1->tensorboard==2.10.1->ProtMIMO==1.0) (3.2.2)\n",
      "Requirement already satisfied: jmespath<2.0.0,>=0.7.1 in /usr/local/lib/python3.7/dist-packages (from boto3->tape-proteins==0.5->ProtMIMO==1.0) (1.0.1)\n",
      "Requirement already satisfied: s3transfer<0.7.0,>=0.6.0 in /usr/local/lib/python3.7/dist-packages (from boto3->tape-proteins==0.5->ProtMIMO==1.0) (0.6.0)\n",
      "Requirement already satisfied: botocore<1.29.0,>=1.28.4 in /usr/local/lib/python3.7/dist-packages (from boto3->tape-proteins==0.5->ProtMIMO==1.0) (1.28.4)\n",
      "Installing collected packages: ProtMIMO\n",
      "  Attempting uninstall: ProtMIMO\n",
      "    Found existing installation: ProtMIMO 1.0\n",
      "    Can't uninstall 'ProtMIMO'. No files were found to uninstall.\n",
      "  Running setup.py develop for ProtMIMO\n",
      "Successfully installed ProtMIMO-1.0\n"
     ]
    }
   ],
   "source": [
    "import os\n",
    "os.chdir('/content/ProtMIMO-CodingChallenge')\n",
    "!pip3 install -e ."
   ]
  },
  {
   "cell_type": "code",
   "execution_count": 3,
   "metadata": {
    "id": "46OpTo5kdgTR"
   },
   "outputs": [],
   "source": [
    "os.chdir('ProtMIMO')"
   ]
  },
  {
   "cell_type": "code",
   "execution_count": 4,
   "metadata": {
    "id": "mHqaDfcicvVw"
   },
   "outputs": [],
   "source": [
    "import torch\n",
    "import numpy as np\n",
    "from matplotlib import pyplot as plt\n",
    "from sklearn.linear_model import LinearRegression\n",
    "from sklearn.metrics import mean_squared_error\n",
    "from scipy.stats import pearsonr\n",
    "from scipy.stats import spearmanr \n",
    "from torch import nn\n",
    "from torch.utils.data import Dataset, DataLoader\n",
    "from data_utils import *\n",
    "%matplotlib inline"
   ]
  },
  {
   "cell_type": "markdown",
   "metadata": {},
   "source": [
    "# Analyze data"
   ]
  },
  {
   "cell_type": "markdown",
   "metadata": {},
   "source": [
    "First, I looked at the histograms of log fluorescence and number of mutations for training, validation, and test set. I found\n",
    "\n",
    "(1) All the three dataset has a bimodal distribution of fluorescence, suggesting two group of different mutations either enhance or decrease the fluoresence.\n",
    "\n",
    "(2) All the data in train and validation has mutation numbers < 4, while all testing data have mutation numbers >=4. More data points in train/val have high fluorescence, while less data points in testing have low fluorescence.\n",
    "\n",
    "(3) From (2), it can be concluded that the train and validation data seem to be sampled from one distribution, which is expected. Testing data is from another distribution. \n",
    "\n",
    "(4) From (3) it should be noticed that the overfitting problem should be concerned."
   ]
  },
  {
   "cell_type": "code",
   "execution_count": 5,
   "metadata": {
    "id": "JCRns8zldHZz"
   },
   "outputs": [],
   "source": [
    "train_df, val_df, test_df = get_gfp_dfs()"
   ]
  },
  {
   "cell_type": "code",
   "execution_count": 6,
   "metadata": {
    "colab": {
     "base_uri": "https://localhost:8080/",
     "height": 367
    },
    "id": "gGudNWnkN42k",
    "outputId": "94d21230-be83-4452-9c33-cfcb28a3e674"
   },
   "outputs": [
    {
     "data": {
      "text/plain": [
       "(0, 4)"
      ]
     },
     "execution_count": 6,
     "metadata": {},
     "output_type": "execute_result"
    },
    {
     "data": {
      "image/png": "[encoded data removed]",
      "text/plain": [
       "<Figure size 720x360 with 2 Axes>"
      ]
     },
     "metadata": {
      "needs_background": "light"
     },
     "output_type": "display_data"
    }
   ],
   "source": [
    "train_log_f = list(train_df['log_fluorescence'])\n",
    "train_n_mut = list(train_df['num_mutations'])\n",
    "\n",
    "plt.figure(figsize=(10,5))\n",
    "\n",
    "plt.subplot(121)\n",
    "plt.title('training data')\n",
    "hist1 = plt.hist(train_log_f)\n",
    "plt.xlabel('log fluorescence')\n",
    "plt.xlim([0,5])\n",
    "plt.subplot(122)\n",
    "plt.title('training data')\n",
    "hist2 = plt.hist(train_n_mut)\n",
    "plt.xlabel('# of mutations')\n",
    "plt.xlim([0,4])"
   ]
  },
  {
   "cell_type": "code",
   "execution_count": 7,
   "metadata": {
    "colab": {
     "base_uri": "https://localhost:8080/",
     "height": 367
    },
    "id": "W5McIOV2OB6U",
    "outputId": "a7e52b15-bc9a-4c1e-c25b-cd4480d0877d"
   },
   "outputs": [
    {
     "data": {
      "text/plain": [
       "(0, 4)"
      ]
     },
     "execution_count": 7,
     "metadata": {},
     "output_type": "execute_result"
    },
    {
     "data": {
      "image/png": "[encoded data removed]",
      "text/plain": [
       "<Figure size 720x360 with 2 Axes>"
      ]
     },
     "metadata": {
      "needs_background": "light"
     },
     "output_type": "display_data"
    }
   ],
   "source": [
    "val_log_f = list(val_df['log_fluorescence'])\n",
    "val_n_mut = list(val_df['num_mutations'])\n",
    "plt.figure(figsize=(10,5))\n",
    "\n",
    "plt.subplot(121)\n",
    "plt.title('validation data')\n",
    "hist1 = plt.hist(val_log_f)\n",
    "plt.xlabel('log fluorescence')\n",
    "plt.xlim([0,5])\n",
    "plt.subplot(122)\n",
    "plt.title('validation data')\n",
    "hist2 = plt.hist(val_n_mut)\n",
    "plt.xlabel('# of mutations')\n",
    "plt.xlim([0,4])"
   ]
  },
  {
   "cell_type": "code",
   "execution_count": 8,
   "metadata": {
    "colab": {
     "base_uri": "https://localhost:8080/",
     "height": 367
    },
    "id": "-rima3wPOB9j",
    "outputId": "a2c3019d-8641-4b73-deb0-2a1b073173ac"
   },
   "outputs": [
    {
     "data": {
      "text/plain": [
       "(0, 15)"
      ]
     },
     "execution_count": 8,
     "metadata": {},
     "output_type": "execute_result"
    },
    {
     "data": {
      "image/png": "[encoded data removed]",
      "text/plain": [
       "<Figure size 720x360 with 2 Axes>"
      ]
     },
     "metadata": {
      "needs_background": "light"
     },
     "output_type": "display_data"
    }
   ],
   "source": [
    "test_log_f = list(test_df['log_fluorescence'])\n",
    "test_n_mut = list(test_df['num_mutations'])\n",
    "\n",
    "plt.figure(figsize=(10,5))\n",
    "\n",
    "plt.subplot(121)\n",
    "plt.title('test data')\n",
    "hist1 = plt.hist(test_log_f)\n",
    "plt.xlabel('log fluorescence')\n",
    "plt.xlim([0,5])\n",
    "plt.subplot(122)\n",
    "plt.title('test data')\n",
    "hist2 = plt.hist(test_n_mut)\n",
    "plt.xlabel('# of mutations')\n",
    "plt.xlim([0,15])"
   ]
  },
  {
   "cell_type": "markdown",
   "metadata": {},
   "source": [
    "# Pad data\n",
    "Since not all the primary sequences have length of 237, I padded the data to make all data the same length. Here I just append '.' symbol to the end of the sequences whose length < 237. A more rigourous way is to find where the deletion was and use a '.' to mark the deletion. Since only a small fraction (2% in training/val, 6% in testing) has lenght < 237, such simplified padding should be fine. \n",
    "\n",
    "In the training data there is one sequence has zero mutation. This should be the wilde type."
   ]
  },
  {
   "cell_type": "code",
   "execution_count": 9,
   "metadata": {
    "colab": {
     "base_uri": "https://localhost:8080/"
    },
    "id": "iqcXFDT8OCA1",
    "outputId": "742bc784-7cb0-406d-88a8-da1d1022f900"
   },
   "outputs": [
    {
     "name": "stdout",
     "output_type": "stream",
     "text": [
      "Sequence with deletions in training has a fraction of  2.25 %\n",
      "Sequence with deletions in test has a fraction of  6.25 %\n"
     ]
    }
   ],
   "source": [
    "frac_train = np.sum(train_df['protein_length']<237) / len(train_df)\n",
    "frac_test = np.sum(test_df['protein_length']<237) / len(test_df)\n",
    "print('Sequence with deletions in training has a fraction of ', np.round(frac_train*100,2), '%')\n",
    "print('Sequence with deletions in test has a fraction of ', np.round(frac_test*100,2), '%')"
   ]
  },
  {
   "cell_type": "code",
   "execution_count": 10,
   "metadata": {
    "colab": {
     "base_uri": "https://localhost:8080/"
    },
    "id": "nXwdD6KgOInU",
    "outputId": "48b3b247-6f76-49d0-947e-20c6263d8dd5"
   },
   "outputs": [
    {
     "name": "stdout",
     "output_type": "stream",
     "text": [
      "['SKGEELFTGVVPILVELDGDVNGHKFSVSGEGEGDATYGKLTLKFICTTGKLPVPWPTLVTTLSYGVQCFSRYPDHMKQHDFFKSAMPEGYVQERTIFFKDDGNYKTRAEVKFEGDTLVNRIELKGIDFKEDGNILGHKLEYNYNSHNVYIMADKQKNGIKVNFKIRHNIEDGSVQLADHYQQNTPIGDGPVLLPDNHYLSTQSALSKDPNEKRDHMVLLEFVTAAGITHGMDELYK']\n"
     ]
    }
   ],
   "source": [
    "original_seq = train_df[train_df['num_mutations']==0]['primary'].values\n",
    "print(original_seq)"
   ]
  },
  {
   "cell_type": "code",
   "execution_count": 11,
   "metadata": {
    "id": "-captOj2c_UP"
   },
   "outputs": [],
   "source": [
    "def convert_seq_to_label(x, dic):\n",
    "    y = [dic[i] for i in x]\n",
    "    if(len(y)!=237):\n",
    "        y = y + (237-len(y)) * [dic['.']]\n",
    "    return y"
   ]
  },
  {
   "cell_type": "code",
   "execution_count": 12,
   "metadata": {
    "id": "MW0XT7vWOQjv"
   },
   "outputs": [],
   "source": [
    "train_seq_label = []\n",
    "for i,x in train_df.iterrows():\n",
    "    train_seq_label.append(convert_seq_to_label(x['primary'], GFP_ALPHABET))\n",
    "train_y = list(train_df['log_fluorescence'])\n",
    "\n",
    "val_seq_label = []\n",
    "for i,x in val_df.iterrows():\n",
    "    val_seq_label.append(convert_seq_to_label(x['primary'], GFP_ALPHABET))\n",
    "val_y = list(val_df['log_fluorescence'])\n",
    "\n",
    "test_seq_label = []\n",
    "for i,x in test_df.iterrows():\n",
    "    test_seq_label.append(convert_seq_to_label(x['primary'], GFP_ALPHABET))\n",
    "test_y = list(test_df['log_fluorescence'])"
   ]
  },
  {
   "cell_type": "markdown",
   "metadata": {},
   "source": [
    "# Linear regression\n",
    "First I performed a linear regression which sets a level for the deep learning model to compare with. For each of the sequence, I treated it as a 237-dimensional vector, each element being a integer ranging from 0-20 to represent 20 amino acids (+1 \".\" symbol). Then I did a linear regression for the training data and tested the model on the testing data. Since each datapoint has 237 dimensions, the total number of parameters is 237+1 (interception). \n",
    "\n",
    "We found the mse of linear regression on the training set is 0.41. However, on the test dataset, the model prediciton mse is 1.27, even larger than the mse of the test set. Note that a model whose prediction mse is larger than the std is no better than a random guess. "
   ]
  },
  {
   "cell_type": "code",
   "execution_count": 13,
   "metadata": {
    "colab": {
     "base_uri": "https://localhost:8080/"
    },
    "id": "TGr7M5XPORb7",
    "outputId": "ff61e3e2-9e9f-4aba-eb11-f2971950dfed"
   },
   "outputs": [
    {
     "name": "stdout",
     "output_type": "stream",
     "text": [
      "training data: mse, pearson correltion, Spearman Rho:\n",
      "0.41 0.64 0.54\n",
      "test data: mse, pearson correltion, Spearman Rho:\n",
      "1.27 0.53 0.53\n",
      "training y std: 0.83 ;  test y std 0.97\n"
     ]
    }
   ],
   "source": [
    "model_linear = LinearRegression().fit(np.array(train_seq_label), np.array(train_y))\n",
    "y_train_linear_pred = model_linear.predict(train_seq_label)\n",
    "train_mse = mean_squared_error(y_true = train_y, y_pred=y_train_linear_pred)\n",
    "train_pearson, _ = pearsonr(train_y, y_train_linear_pred)\n",
    "train_spearmanr = spearmanr(train_y, y_train_linear_pred).correlation\n",
    "\n",
    "y_test_linear_pred = model_linear.predict(test_seq_label)\n",
    "test_mse = mean_squared_error(y_true = test_y, y_pred=y_test_linear_pred)\n",
    "test_pearson, _ = pearsonr(test_y, y_test_linear_pred)\n",
    "test_spearmanr = spearmanr(test_y, y_test_linear_pred).correlation\n",
    "\n",
    "print('training data: mse, pearson correltion, Spearman Rho:')\n",
    "print(np.round(train_mse,2), np.round(train_pearson,2), np.round(train_spearmanr,2))\n",
    "print('test data: mse, pearson correltion, Spearman Rho:')\n",
    "print(np.round(test_mse,2), np.round(test_pearson,2), np.round(test_spearmanr,2))\n",
    "\n",
    "print('training y std:', np.round(np.std(train_y),2), ';  test y std', np.round(np.std(test_y),2))"
   ]
  },
  {
   "cell_type": "markdown",
   "metadata": {},
   "source": [
    "I evaluated the model performance for different numbers of mutations, in order to show the \"diversity\""
   ]
  },
  {
   "cell_type": "code",
   "execution_count": 14,
   "metadata": {
    "colab": {
     "base_uri": "https://localhost:8080/",
     "height": 312
    },
    "id": "2hV2aiFDORgJ",
    "outputId": "51d4eccc-844f-479b-f893-28c47493cff1"
   },
   "outputs": [
    {
     "data": {
      "text/plain": [
       "Text(0, 0.5, 'rmse')"
      ]
     },
     "execution_count": 14,
     "metadata": {},
     "output_type": "execute_result"
    },
    {
     "data": {
      "image/png": "[encoded data removed]",
      "text/plain": [
       "<Figure size 432x288 with 1 Axes>"
      ]
     },
     "metadata": {
      "needs_background": "light"
     },
     "output_type": "display_data"
    }
   ],
   "source": [
    "train_pearson_list = []\n",
    "for n_m in range(np.min(train_df['num_mutations']),np.max(train_df['num_mutations'])+1):\n",
    "    pred_y = y_train_linear_pred[train_df['num_mutations'] == n_m]\n",
    "    true_y = np.array(train_y)[train_df['num_mutations'] == n_m]\n",
    "    if(len(pred_y)>1):\n",
    "        train_pearson_list.append(mean_squared_error(pred_y, true_y))\n",
    "    else:\n",
    "        train_pearson_list.append(0)\n",
    "plt.bar(np.arange(np.min(train_df['num_mutations']),np.max(train_df['num_mutations'])+1), train_pearson_list)\n",
    "plt.title('rmse for training data')\n",
    "plt.ylim([0,2.5])\n",
    "plt.xlabel('# of mutations')\n",
    "plt.ylabel('rmse')"
   ]
  },
  {
   "cell_type": "code",
   "execution_count": 15,
   "metadata": {
    "colab": {
     "base_uri": "https://localhost:8080/",
     "height": 312
    },
    "id": "8ynidwAfORmb",
    "outputId": "e59d7702-babc-489a-e965-668a3c09696c"
   },
   "outputs": [
    {
     "data": {
      "text/plain": [
       "Text(0, 0.5, 'rmse')"
      ]
     },
     "execution_count": 15,
     "metadata": {},
     "output_type": "execute_result"
    },
    {
     "data": {
      "image/png": "[encoded data removed]",
      "text/plain": [
       "<Figure size 432x288 with 1 Axes>"
      ]
     },
     "metadata": {
      "needs_background": "light"
     },
     "output_type": "display_data"
    }
   ],
   "source": [
    "test_pearson_list = []\n",
    "for n_m in range(np.min(test_df['num_mutations']),np.max(test_df['num_mutations'])+1):\n",
    "    pred_y = y_test_linear_pred[test_df['num_mutations'] == n_m]\n",
    "    true_y = np.array(test_y)[test_df['num_mutations'] == n_m]\n",
    "    if(len(pred_y)>1):\n",
    "        test_pearson_list.append(mean_squared_error(pred_y, true_y))\n",
    "    else:\n",
    "        test_pearson_list.append(0)\n",
    "plt.bar(np.arange(np.min(test_df['num_mutations']),np.max(test_df['num_mutations'])+1), test_pearson_list)\n",
    "plt.ylim([0,2.5])\n",
    "plt.title('rmse for testing data')\n",
    "plt.xlabel('# of mutations')\n",
    "plt.ylabel('rmse')"
   ]
  },
  {
   "cell_type": "markdown",
   "metadata": {},
   "source": [
    "# MIMO model\n",
    "\n",
    "For the three inputs (shape: sequence_length(237)  * number of aa (21)), they are first seperately processed by three embeding layers such that the output would be three tensors of shape (sequence_length(237)  * embedding_dimension(128)). This is the MI part of the model.\n",
    "\n",
    "Then the three tensors are process by the same CNN module. This model has three CNNs separated by ReLUs, with increasing kernel size and filter number. The architecture of the CNN module is copied from DeepDTA, a model I've tested during my internship. \n",
    "\n",
    "The output of the CNN module for the three input sequences are three vectors with 96 elements (96*1, 96 is the number of filters for the last CNN layer).Then these three 96*1 vectors are seperately processed by three dense layer to get three outputs. This is the MO part of the model.\n",
    "\n",
    "The output is the prediciton of log fluorescence. "
   ]
  },
  {
   "cell_type": "code",
   "execution_count": 16,
   "metadata": {
    "id": "BWtuNsp5ey4t"
   },
   "outputs": [],
   "source": [
    "class ProtMIMO_CNN(nn.Module):\n",
    "    def __init__(self, label_len, embed_dim, max_len, cnn_channels, cnn_kernels):\n",
    "        super().__init__()\n",
    "        \n",
    "        # independent input embedding layers\n",
    "        self.Embed0 = nn.Embedding(num_embeddings=label_len,embedding_dim=embed_dim)\n",
    "        self.Embed1 = nn.Embedding(num_embeddings=label_len,embedding_dim=embed_dim)\n",
    "        self.Embed2 = nn.Embedding(num_embeddings=label_len,embedding_dim=embed_dim)\n",
    "        \n",
    "        # shared CNN layers\n",
    "        # The CNN architecture and hyperparameters were used from DeepDTA(https://arxiv.org/pdf/1801.10193.pdf)\n",
    "        self.Conv0 = nn.Conv1d(in_channels=embed_dim, out_channels=cnn_channels[0], kernel_size=cnn_kernels[0], padding=0)\n",
    "        self.Conv1 = nn.Conv1d(in_channels=cnn_channels[0], out_channels=cnn_channels[1], kernel_size=cnn_kernels[1], padding=0)\n",
    "        self.Conv2 = nn.Conv1d(in_channels=cnn_channels[1], out_channels=cnn_channels[2], kernel_size=cnn_kernels[2], padding=0)\n",
    "        self.Maxpool = nn.MaxPool1d(max_len-cnn_kernels[0]-cnn_kernels[1]-cnn_kernels[2]+3)\n",
    "        self.ReLu = nn.ReLU()\n",
    "        \n",
    "        # independent output fully connected layers\n",
    "        self.fc0 = nn.Linear(cnn_channels[2],1)\n",
    "        self.fc1 = nn.Linear(cnn_channels[2],1)\n",
    "        self.fc2 = nn.Linear(cnn_channels[2],1)\n",
    "    \n",
    "    def forward(self, pro0, pro1, pro2):\n",
    "        \n",
    "        x0 = self.Embed0(pro0)\n",
    "        x1 = self.Embed1(pro1)\n",
    "        x2 = self.Embed2(pro2)\n",
    "        \n",
    "        xs = [x0,x1,x2]\n",
    "        ys = []\n",
    "        for x in xs:\n",
    "            x = x.permute(0,2,1)\n",
    "            x = self.Conv0(x)\n",
    "            x = self.ReLu(x)\n",
    "            x = self.Conv1(x)\n",
    "            x = self.ReLu(x)\n",
    "            x = self.Conv2(x)\n",
    "            x = self.ReLu(x)\n",
    "            x = self.Maxpool(x).squeeze(2)\n",
    "            ys.append(x)\n",
    "        \n",
    "        y0 = self.fc0(ys[0]).squeeze(1)\n",
    "        y1 = self.fc1(ys[1]).squeeze(1)\n",
    "        y2 = self.fc2(ys[2]).squeeze(1)\n",
    "        \n",
    "        return [y0,y1,y2]"
   ]
  },
  {
   "cell_type": "markdown",
   "metadata": {},
   "source": [
    "# DataLoaders\n",
    "For training, I shuffled the training data for three times to make three inputs. For validation and testing, I just take the original data, and fed the input to MIMO for three times.\n",
    "\n",
    "Because of the shuffling, each epoch of MIMO will be equivalent to three epochs of \"single input single output\" network. "
   ]
  },
  {
   "cell_type": "code",
   "execution_count": 17,
   "metadata": {
    "id": "M9PiGRAue3bE"
   },
   "outputs": [],
   "source": [
    "class MyTrainDataset(Dataset):\n",
    "\n",
    "    def __init__(self, df0):\n",
    "        super().__init__()\n",
    "        \n",
    "        seq_label = []\n",
    "        for i,x in df0.iterrows():\n",
    "            seq_label.append(convert_seq_to_label(x['primary'], GFP_ALPHABET))\n",
    "        df0['seq_label'] = seq_label\n",
    "        \n",
    "        # shuffle the original data from to get the second and the third input\n",
    "        df1 = df0.sample(frac=1)\n",
    "        df2 = df0.sample(frac=1)\n",
    "        \n",
    "        self.pro0 = torch.from_numpy(np.asarray(list(df0['seq_label']),dtype=np.int64))\n",
    "        self.pro1 = torch.from_numpy(np.asarray(list(df1['seq_label']),dtype=np.int64))\n",
    "        self.pro2 = torch.from_numpy(np.asarray(list(df2['seq_label']),dtype=np.int64))\n",
    "        \n",
    "        self.y0 = torch.Tensor(list(df0['log_fluorescence']))\n",
    "        self.y1 = torch.Tensor(list(df1['log_fluorescence']))\n",
    "        self.y2 = torch.Tensor(list(df2['log_fluorescence']))\n",
    "\n",
    "\n",
    "    def __len__(self):\n",
    "        return len(self.y0)\n",
    "    \n",
    "    \n",
    "    def __getitem__(self, idx):\n",
    "        sample = {'pro0': self.pro0[idx], 'y0': self.y0[idx], \n",
    "                  'pro1': self.pro1[idx], 'y1': self.y1[idx],\n",
    "                  'pro2': self.pro2[idx], 'y2': self.y2[idx],}\n",
    "\n",
    "        return sample\n",
    "    "
   ]
  },
  {
   "cell_type": "code",
   "execution_count": 18,
   "metadata": {
    "id": "t84N7RSHwcZ3"
   },
   "outputs": [],
   "source": [
    "class MyTestDataset(Dataset):\n",
    "    # no need to shuffle. Just feed the same input sequence for three times\n",
    "\n",
    "    def __init__(self, df): \n",
    "        super().__init__()\n",
    "        \n",
    "        seq_label = []\n",
    "        for i,x in df.iterrows():\n",
    "            seq_label.append(convert_seq_to_label(x['primary'], GFP_ALPHABET))\n",
    "        \n",
    "        self.pro = torch.from_numpy(np.asarray(seq_label,dtype=np.int64))\n",
    "        \n",
    "        self.y = torch.Tensor(list(df['log_fluorescence']))\n",
    "\n",
    "    def __len__(self):\n",
    "        return len(self.y)\n",
    "    \n",
    "    \n",
    "    def __getitem__(self, idx):\n",
    "        sample = {'pro': self.pro[idx], 'y': self.y[idx]}\n",
    "\n",
    "        return sample"
   ]
  },
  {
   "cell_type": "markdown",
   "metadata": {},
   "source": [
    "# Train model"
   ]
  },
  {
   "cell_type": "code",
   "execution_count": 19,
   "metadata": {
    "id": "gs6hjJdUo5Wt"
   },
   "outputs": [],
   "source": [
    "def train(model, device, train_loader, optimizer, epoch):\n",
    "    print('Training on {} samples...'.format(len(train_loader.dataset)))\n",
    "    model.train()\n",
    "    for batch_idx, data in enumerate(train_loader):\n",
    "        data = data\n",
    "        optimizer.zero_grad()\n",
    "        y0, y1, y2 = model(data['pro0'].to(device), data['pro1'].to(device), data['pro2'].to(device))\n",
    "        output = torch.concat((y0,y1,y2)).to(device)\n",
    "        loss = loss_fn(output, torch.concat((data['y0'], data['y1'], data['y2'])).float().to(device))\n",
    "        loss.backward()\n",
    "        optimizer.step()"
   ]
  },
  {
   "cell_type": "code",
   "execution_count": 20,
   "metadata": {
    "id": "EC8Bul1Jwadn"
   },
   "outputs": [],
   "source": [
    "def predict(model, device, loader, return_std=False):\n",
    "    # return the std of the three predicitons when needed\n",
    "\n",
    "    print('Make prediction for {} samples...'.format(len(loader.dataset)))\n",
    "    model.eval()\n",
    "    preds = torch.Tensor()\n",
    "    trues = torch.Tensor()\n",
    "    pred_stds = torch.Tensor()\n",
    "    with torch.no_grad():\n",
    "        for data in loader:\n",
    "            #data = data\n",
    "            y0, y1, y2 = model(data['pro'].to(device), data['pro'].to(device), data['pro'].to(device))\n",
    "            output = (y0+y1+y2)/3\n",
    "            preds = torch.cat((preds, output.cpu()), 0)\n",
    "            trues = torch.cat((trues, data['y'].cpu()), 0)\n",
    "            if(return_std):\n",
    "              stds = torch.std(torch.stack((y0,y1,y2)),dim=0)\n",
    "              pred_stds = torch.cat((pred_stds, stds.cpu()), 0)\n",
    "    if(return_std):\n",
    "      return trues.numpy().flatten(), preds.numpy().flatten(), pred_stds.numpy().flatten()\n",
    "    else:\n",
    "      return trues.numpy().flatten(),preds.numpy().flatten()"
   ]
  },
  {
   "cell_type": "code",
   "execution_count": 21,
   "metadata": {
    "id": "akT3FF_xO-ku"
   },
   "outputs": [],
   "source": [
    "# The CNN architecture and hyperparameters were used from DeepDTA(https://arxiv.org/pdf/1801.10193.pdf)\n",
    "model = ProtMIMO_CNN(label_len=len(GFP_ALPHABET), \n",
    "                     embed_dim=128, \n",
    "                     max_len=237, \n",
    "                     cnn_channels=[32,64,96], \n",
    "                     cnn_kernels=[4,8,12])"
   ]
  },
  {
   "cell_type": "code",
   "execution_count": 22,
   "metadata": {
    "id": "NUnwN2FAo8Lw"
   },
   "outputs": [],
   "source": [
    "BATCH_SIZE = 50\n",
    "LR = 1e-4\n",
    "L2_weight = 1e-5    # L2 regularization\n",
    "NUM_EPOCHS = 33     # Since we have 3 inputs, 33 epochs is equivalent to 100 epochs for single-in-single-out NNs"
   ]
  },
  {
   "cell_type": "code",
   "execution_count": 23,
   "metadata": {
    "id": "hQTYALFBpGNJ"
   },
   "outputs": [],
   "source": [
    "train_data = MyTrainDataset(train_df)\n",
    "val_data = MyTestDataset(val_df)\n",
    "test_data = MyTestDataset(test_df)\n",
    "train_loader = DataLoader(train_data, batch_size=BATCH_SIZE, shuffle=True)\n",
    "val_loader = DataLoader(val_data, batch_size=BATCH_SIZE, shuffle=False)\n",
    "test_loader = DataLoader(test_data, batch_size=BATCH_SIZE, shuffle=False)"
   ]
  },
  {
   "cell_type": "code",
   "execution_count": 24,
   "metadata": {
    "colab": {
     "base_uri": "https://localhost:8080/"
    },
    "id": "HghsMMGepGXK",
    "outputId": "6235a757-b2cc-47a1-b7e6-42a60ab05ba2"
   },
   "outputs": [
    {
     "name": "stdout",
     "output_type": "stream",
     "text": [
      "Training on 21446 samples...\n",
      "Make prediction for 5362 samples...\n",
      "rmse improved at epoch  1 ; best_mse: 0.68280923\n",
      "Training on 21446 samples...\n",
      "Make prediction for 5362 samples...\n",
      "rmse improved at epoch  2 ; best_mse: 0.6667901\n",
      "Training on 21446 samples...\n",
      "Make prediction for 5362 samples...\n",
      "rmse improved at epoch  3 ; best_mse: 0.63687545\n",
      "Training on 21446 samples...\n",
      "Make prediction for 5362 samples...\n",
      "rmse improved at epoch  4 ; best_mse: 0.5637583\n",
      "Training on 21446 samples...\n",
      "Make prediction for 5362 samples...\n",
      "rmse improved at epoch  5 ; best_mse: 0.43144494\n",
      "Training on 21446 samples...\n",
      "Make prediction for 5362 samples...\n",
      "rmse improved at epoch  6 ; best_mse: 0.31548014\n",
      "Training on 21446 samples...\n",
      "Make prediction for 5362 samples...\n",
      "rmse improved at epoch  7 ; best_mse: 0.2516071\n",
      "Training on 21446 samples...\n",
      "Make prediction for 5362 samples...\n",
      "rmse improved at epoch  8 ; best_mse: 0.21679221\n",
      "Training on 21446 samples...\n",
      "Make prediction for 5362 samples...\n",
      "rmse improved at epoch  9 ; best_mse: 0.19208816\n",
      "Training on 21446 samples...\n",
      "Make prediction for 5362 samples...\n",
      "rmse improved at epoch  10 ; best_mse: 0.176232\n",
      "Training on 21446 samples...\n",
      "Make prediction for 5362 samples...\n",
      "rmse improved at epoch  11 ; best_mse: 0.167355\n",
      "Training on 21446 samples...\n",
      "Make prediction for 5362 samples...\n",
      "rmse improved at epoch  12 ; best_mse: 0.15732326\n",
      "Training on 21446 samples...\n",
      "Make prediction for 5362 samples...\n",
      "rmse improved at epoch  13 ; best_mse: 0.14956659\n",
      "Training on 21446 samples...\n",
      "Make prediction for 5362 samples...\n",
      "rmse improved at epoch  14 ; best_mse: 0.14447883\n",
      "Training on 21446 samples...\n",
      "Make prediction for 5362 samples...\n",
      "rmse improved at epoch  15 ; best_mse: 0.1382478\n",
      "Training on 21446 samples...\n",
      "Make prediction for 5362 samples...\n",
      "rmse improved at epoch  16 ; best_mse: 0.13603328\n",
      "Training on 21446 samples...\n",
      "Make prediction for 5362 samples...\n",
      "rmse improved at epoch  17 ; best_mse: 0.13153295\n",
      "Training on 21446 samples...\n",
      "Make prediction for 5362 samples...\n",
      "rmse improved at epoch  18 ; best_mse: 0.12983146\n",
      "Training on 21446 samples...\n",
      "Make prediction for 5362 samples...\n",
      "rmse improved at epoch  19 ; best_mse: 0.12537703\n",
      "Training on 21446 samples...\n",
      "Make prediction for 5362 samples...\n",
      "current rmse: 0.12592736 No improvement since epoch  19 ; best_mse: 0.12537703\n",
      "Training on 21446 samples...\n",
      "Make prediction for 5362 samples...\n",
      "rmse improved at epoch  21 ; best_mse: 0.121692084\n",
      "Training on 21446 samples...\n",
      "Make prediction for 5362 samples...\n",
      "rmse improved at epoch  22 ; best_mse: 0.119843215\n",
      "Training on 21446 samples...\n",
      "Make prediction for 5362 samples...\n",
      "current rmse: 0.12626182 No improvement since epoch  22 ; best_mse: 0.119843215\n",
      "Training on 21446 samples...\n",
      "Make prediction for 5362 samples...\n",
      "rmse improved at epoch  24 ; best_mse: 0.11691006\n",
      "Training on 21446 samples...\n",
      "Make prediction for 5362 samples...\n",
      "current rmse: 0.11958351 No improvement since epoch  24 ; best_mse: 0.11691006\n",
      "Training on 21446 samples...\n",
      "Make prediction for 5362 samples...\n",
      "current rmse: 0.119833626 No improvement since epoch  24 ; best_mse: 0.11691006\n",
      "Training on 21446 samples...\n",
      "Make prediction for 5362 samples...\n",
      "rmse improved at epoch  27 ; best_mse: 0.115649\n",
      "Training on 21446 samples...\n",
      "Make prediction for 5362 samples...\n",
      "rmse improved at epoch  28 ; best_mse: 0.11161434\n",
      "Training on 21446 samples...\n",
      "Make prediction for 5362 samples...\n",
      "rmse improved at epoch  29 ; best_mse: 0.110792585\n",
      "Training on 21446 samples...\n",
      "Make prediction for 5362 samples...\n",
      "current rmse: 0.11640729 No improvement since epoch  29 ; best_mse: 0.110792585\n",
      "Training on 21446 samples...\n",
      "Make prediction for 5362 samples...\n",
      "current rmse: 0.11181393 No improvement since epoch  29 ; best_mse: 0.110792585\n",
      "Training on 21446 samples...\n",
      "Make prediction for 5362 samples...\n",
      "rmse improved at epoch  32 ; best_mse: 0.10836158\n",
      "Training on 21446 samples...\n",
      "Make prediction for 5362 samples...\n",
      "current rmse: 0.10848687 No improvement since epoch  32 ; best_mse: 0.10836158\n"
     ]
    }
   ],
   "source": [
    "cuda_name = \"cuda:0\"\n",
    "device = torch.device(cuda_name if torch.cuda.is_available() else \"cpu\")\n",
    "model = model.to(device)\n",
    "df_results = pd.DataFrame(columns = ['# of epoch', 'mse', 'pearson correlation', 'spearman rho'])\n",
    "torch.save(model.state_dict(), '/content/drive/MyDrive/test_prot_mimo/checkpoints/model_checkpoint.pt')\n",
    "loss_fn = nn.MSELoss()\n",
    "optimizer = torch.optim.Adam(model.parameters(), lr=LR, weight_decay=1e-5)\n",
    "best_mse = 1000\n",
    "best_epoch = -1\n",
    "for epoch in range(NUM_EPOCHS):\n",
    "    train(model, device, train_loader, optimizer, epoch+1)\n",
    "    torch.save(model.state_dict(), '/content/drive/MyDrive/test_prot_mimo/results/model_epoch'+str(epoch+1)+'.pt')\n",
    "    T,P = predict(model, device, val_loader)\n",
    "    rmse = mean_squared_error(T, P)\n",
    "    pearson_correlation = pearsonr(T, P)\n",
    "    spearman_rho = spearmanr(T,P)\n",
    "    df_results.loc[len(df_results)] = [epoch+1, rmse, pearson_correlation, spearman_rho]\n",
    "    if rmse<best_mse:\n",
    "        torch.save(model.state_dict(), '/content/drive/MyDrive/test_prot_mimo/results/best_model.pt')\n",
    "        best_epoch = epoch+1\n",
    "        best_mse = rmse\n",
    "        print('rmse improved at epoch ', best_epoch, '; best_mse:', best_mse)\n",
    "    else:\n",
    "        print('current rmse:',rmse,'No improvement since epoch ', best_epoch, '; best_mse:', best_mse)\n",
    "df_results.to_csv('/content/drive/MyDrive/test_prot_mimo/results/training_history.csv')"
   ]
  },
  {
   "cell_type": "markdown",
   "metadata": {},
   "source": [
    "# Training history\n",
    "I found after training for 33 epoches (equivalently 100 epoches for vanilla networks), the validation rmse is lowered to ~0.1, significantly better than the linear regression model."
   ]
  },
  {
   "cell_type": "code",
   "execution_count": 26,
   "metadata": {
    "colab": {
     "base_uri": "https://localhost:8080/",
     "height": 300
    },
    "id": "Zl3qVerrapTd",
    "outputId": "12e5ffab-f987-49f2-9ea2-3aab7b27b3c0"
   },
   "outputs": [
    {
     "data": {
      "text/plain": [
       "<matplotlib.legend.Legend at 0x7f33c19cb450>"
      ]
     },
     "execution_count": 26,
     "metadata": {},
     "output_type": "execute_result"
    },
    {
     "data": {
      "image/png": "[encoded data removed]",
      "text/plain": [
       "<Figure size 432x288 with 1 Axes>"
      ]
     },
     "metadata": {
      "needs_background": "light"
     },
     "output_type": "display_data"
    }
   ],
   "source": [
    "df_results = pd.read_csv('/content/drive/MyDrive/test_prot_mimo/results/training_history.csv')\n",
    "rmse_hist = list(df_results['mse'])\n",
    "pearson_correlation_hist = list(df_results['pearson correlation'])\n",
    "pearson_correlation_hist = [float(x.split(',')[0][1:]) for x in pearson_correlation_hist]\n",
    "spearman_rho_hist = list(df_results['spearman rho'])\n",
    "spearman_rho_hist = [float(x.split(',')[0].split('=')[-1]) for x in spearman_rho_hist]\n",
    "plt.plot(rmse_hist)\n",
    "plt.plot(pearson_correlation_hist)\n",
    "plt.plot(spearman_rho_hist)\n",
    "plt.ylim([0,1])\n",
    "plt.xlabel('# of epoch')\n",
    "plt.legend(['rmse','pearson','spearman'], fontsize=12)"
   ]
  },
  {
   "cell_type": "markdown",
   "metadata": {},
   "source": [
    "# Prediction on testing set\n",
    "The model with the lowest rmse was used to make predictions on the testing set. The rmse of the testing data prediction is 0.42, lower than the std of the testing data and the linear regression model, although it is much bigger than on the training/validation set. \n",
    "\n",
    "I found that the MIMO model predicted the sequence with high fluorescence (>3) pretty well. However, for the low fluorescence datapoints (<2) the model didn't perform well. Possibly the reason is that there are not many data points of low flourescence intensity in the training set. "
   ]
  },
  {
   "cell_type": "code",
   "execution_count": 27,
   "metadata": {
    "colab": {
     "base_uri": "https://localhost:8080/"
    },
    "id": "kRGAUhzR9xeg",
    "outputId": "e8addd88-1162-4a2f-ddf3-62d69f555c67"
   },
   "outputs": [
    {
     "name": "stdout",
     "output_type": "stream",
     "text": [
      "Make prediction for 27217 samples...\n",
      "Make prediction for 5362 samples...\n"
     ]
    }
   ],
   "source": [
    "model_best = model\n",
    "model_best.load_state_dict(torch.load('/content/drive/MyDrive/test_prot_mimo/results/best_model.pt'))\n",
    "T, P, Pstds = predict(model_best, device, test_loader, return_std=True)\n",
    "Tv, Pv, Pvstds = predict(model_best, device, val_loader, return_std=True)\n",
    "test_model_mse = mean_squared_error(T, P)\n",
    "test_model_pearson = pearsonr(T, P)[0]\n",
    "test_model_spearmanr = spearmanr(T, P).correlation   \n",
    "val_model_mse = mean_squared_error(Tv, Pv)\n",
    "val_model_pearson = pearsonr(Tv, Pv)[0]\n",
    "val_model_spearmanr = spearmanr(Tv, Pv).correlation   "
   ]
  },
  {
   "cell_type": "code",
   "execution_count": 28,
   "metadata": {
    "colab": {
     "base_uri": "https://localhost:8080/"
    },
    "id": "uw8OmJYJblIX",
    "outputId": "bb7ff7a1-5fe7-4be9-cd25-f85782e6e80c"
   },
   "outputs": [
    {
     "name": "stdout",
     "output_type": "stream",
     "text": [
      "validation data: mse, pearson correltion, Spearman Rho:\n",
      "0.11 0.92 0.81\n",
      "test data: mse, pearson correltion, Spearman Rho:\n",
      "0.42 0.81 0.67\n"
     ]
    }
   ],
   "source": [
    "print('validation data: mse, pearson correltion, Spearman Rho:')\n",
    "print(np.round(val_model_mse,2), np.round(val_model_pearson,2), np.round(val_model_spearmanr,2))\n",
    "print('test data: mse, pearson correltion, Spearman Rho:')\n",
    "print(np.round(test_model_mse,2), np.round(test_model_pearson,2), np.round(test_model_spearmanr,2))"
   ]
  },
  {
   "cell_type": "code",
   "execution_count": 29,
   "metadata": {
    "colab": {
     "base_uri": "https://localhost:8080/",
     "height": 367
    },
    "id": "wJtZGjyMo8Oj",
    "outputId": "814ee7f7-51f6-44ae-fabd-f161624741c9"
   },
   "outputs": [
    {
     "data": {
      "text/plain": [
       "Text(0, 0.5, 'prediction')"
      ]
     },
     "execution_count": 29,
     "metadata": {},
     "output_type": "execute_result"
    },
    {
     "data": {
      "image/png": "[encoded data removed]",
      "text/plain": [
       "<Figure size 720x360 with 2 Axes>"
      ]
     },
     "metadata": {
      "needs_background": "light"
     },
     "output_type": "display_data"
    }
   ],
   "source": [
    "plt.figure(figsize=(10,5))\n",
    "\n",
    "plt.subplot(121)\n",
    "plt.title('test data')\n",
    "plt.scatter(T, P, s=0.1)\n",
    "plt.plot([0,4],[0,4],'k')\n",
    "plt.axis('equal')\n",
    "plt.xlabel('truth')\n",
    "plt.ylabel('prediction')\n",
    "\n",
    "\n",
    "plt.subplot(122)\n",
    "plt.title('validation data')\n",
    "plt.scatter(Tv, Pv, s=0.1)\n",
    "plt.plot([0,4],[0,4],'k')\n",
    "plt.axis('equal')\n",
    "plt.xlabel('truth')\n",
    "plt.ylabel('prediction')\n"
   ]
  },
  {
   "cell_type": "markdown",
   "metadata": {},
   "source": [
    "# Predicting the uncertainty\n",
    "According to the authors of MIMO, they claimed that the model could provide some uncertainty insights as the model could give three outputs for one data point. Thus, I seek for correlations between the std of the three predictions and the error between the prediciton and the truth. In other words, if the model predicts a data point inaccurately, it should know the uncertainty of its prediction by using the information of the three outpus. Indicated by pearson correlation, there is only a weak but still, positive correlation."
   ]
  },
  {
   "cell_type": "code",
   "execution_count": 33,
   "metadata": {
    "colab": {
     "base_uri": "https://localhost:8080/",
     "height": 296
    },
    "id": "PWCkSKyno8RN",
    "outputId": "5e0f85bb-4c33-4594-a82e-e42fcd820d11"
   },
   "outputs": [
    {
     "name": "stdout",
     "output_type": "stream",
     "text": [
      "pearson correlation between squared error and prediction std: 0.16\n"
     ]
    },
    {
     "data": {
      "image/png": "[encoded data removed]",
      "text/plain": [
       "<Figure size 432x288 with 1 Axes>"
      ]
     },
     "metadata": {
      "needs_background": "light"
     },
     "output_type": "display_data"
    }
   ],
   "source": [
    "plt.scatter((T-P)**2, Pstds,s=0.1)\n",
    "plt.xlabel('squared error')\n",
    "plt.ylabel('prediction std')\n",
    "tmp1 = pearsonr((T-P)**2, Pstds)\n",
    "print('pearson correlation between squared error and prediction std:', np.round(tmp1[0],2))"
   ]
  },
  {
   "cell_type": "markdown",
   "metadata": {},
   "source": [
    "# Evaluating the model prediciton for different mutation numbers\n",
    "Since the model was fitted to low mutation numbers (<=3), the model predicted better on the testing datapoints with small mutation numbers. "
   ]
  },
  {
   "cell_type": "code",
   "execution_count": 37,
   "metadata": {
    "colab": {
     "base_uri": "https://localhost:8080/",
     "height": 312
    },
    "id": "nggJ-frb7c_2",
    "outputId": "1bbe1cc2-49cb-407e-f035-92a91ecb2956"
   },
   "outputs": [
    {
     "data": {
      "text/plain": [
       "Text(0, 0.5, 'rmse')"
      ]
     },
     "execution_count": 37,
     "metadata": {},
     "output_type": "execute_result"
    },
    {
     "data": {
      "image/png": "[encoded data removed]",
      "text/plain": [
       "<Figure size 432x288 with 1 Axes>"
      ]
     },
     "metadata": {
      "needs_background": "light"
     },
     "output_type": "display_data"
    }
   ],
   "source": [
    "val_mse_list = []\n",
    "for n_m in range(np.min(val_df['num_mutations']),np.max(val_df['num_mutations'])+1):\n",
    "    pred_y = Pv[val_df['num_mutations'] == n_m]\n",
    "    true_y = np.array(val_y)[val_df['num_mutations'] == n_m]\n",
    "    if(len(pred_y)>1):\n",
    "        val_mse_list.append(mean_squared_error(pred_y, true_y))\n",
    "    else:\n",
    "        val_mse_list.append(0)\n",
    "plt.bar(np.arange(np.min(val_df['num_mutations']),np.max(val_df['num_mutations'])+1), val_mse_list)\n",
    "plt.title('rmse for valing data')\n",
    "plt.ylim([0,2])\n",
    "plt.xlabel('# of mutations')\n",
    "plt.ylabel('rmse')"
   ]
  },
  {
   "cell_type": "code",
   "execution_count": 36,
   "metadata": {
    "colab": {
     "base_uri": "https://localhost:8080/",
     "height": 312
    },
    "id": "9ylYsCDyCXdk",
    "outputId": "38dcde04-be92-4631-ae88-6ba6429bd3d7"
   },
   "outputs": [
    {
     "data": {
      "text/plain": [
       "Text(0, 0.5, 'rmse')"
      ]
     },
     "execution_count": 36,
     "metadata": {},
     "output_type": "execute_result"
    },
    {
     "data": {
      "image/png": "[encoded data removed]",
      "text/plain": [
       "<Figure size 432x288 with 1 Axes>"
      ]
     },
     "metadata": {
      "needs_background": "light"
     },
     "output_type": "display_data"
    }
   ],
   "source": [
    "test_mse_list = []\n",
    "for n_m in range(np.min(test_df['num_mutations']),np.max(test_df['num_mutations'])+1):\n",
    "    pred_y = P[test_df['num_mutations'] == n_m]\n",
    "    true_y = np.array(test_y)[test_df['num_mutations'] == n_m]\n",
    "    if(len(pred_y)>1):\n",
    "        test_mse_list.append(mean_squared_error(pred_y, true_y))\n",
    "    else:\n",
    "        test_mse_list.append(0)\n",
    "plt.bar(np.arange(np.min(test_df['num_mutations']),np.max(test_df['num_mutations'])+1), test_mse_list)\n",
    "plt.title('rmse for testing data')\n",
    "plt.ylim([0,2])\n",
    "plt.xlabel('# of mutations')\n",
    "plt.ylabel('rmse')"
   ]
  },
  {
   "cell_type": "markdown",
   "metadata": {},
   "source": [
    "# Compare to other models\n",
    "For the tranditional regression methods, I developed another two linear regression models. The difference is the input. For the two new models, in addition to the 237 elements each representing an amino acids, I added (1) the square of each elements $x_i^2$, and (2) the cross product of neighbouring elements $x_i*x_{i+1}$, respectively to the input vector. Thus, the input vector would have twice the length of the sequence lenght. \n",
    "\n",
    "The three linear regression models all predicted worse than the MIMO model"
   ]
  },
  {
   "cell_type": "code",
   "execution_count": 38,
   "metadata": {
    "id": "ENMK2B3pUNip"
   },
   "outputs": [],
   "source": [
    "train_seq_label_a1 = []\n",
    "test_seq_label_a1 = []\n",
    "for i,l in enumerate(train_seq_label):\n",
    "    l = l + list(np.array(l)**2)\n",
    "    train_seq_label_a1.append(l)\n",
    "for i,l in enumerate(test_seq_label):\n",
    "    l = l + list(np.array(l)**2)\n",
    "    test_seq_label_a1.append(l)\n",
    "\n",
    "model_linear2 = LinearRegression().fit(np.array(train_seq_label_a1), np.array(train_y))\n",
    "y_test_linear2_pred = model_linear2.predict(test_seq_label_a1)\n",
    "test2_mse = mean_squared_error(test_y, y_test_linear2_pred)\n",
    "test2_pearson = pearsonr(test_y, y_test_linear2_pred)[0]\n",
    "test2_spearmanr = spearmanr(test_y, y_test_linear2_pred).correlation    "
   ]
  },
  {
   "cell_type": "code",
   "execution_count": 39,
   "metadata": {
    "id": "KYV5lkqddxYd"
   },
   "outputs": [],
   "source": [
    "train_seq_label_a2 = []\n",
    "test_seq_label_a2 = []\n",
    "for i,l in enumerate(train_seq_label):\n",
    "    l = l + list(np.array(l[:-1])*np.array(l[1:]))\n",
    "    train_seq_label_a2.append(l)\n",
    "for i,l in enumerate(test_seq_label):\n",
    "    l = l + list(np.array(l[:-1])*np.array(l[1:]))\n",
    "    test_seq_label_a2.append(l)\n",
    "\n",
    "model_linear3 = LinearRegression().fit(np.array(train_seq_label_a2), np.array(train_y))\n",
    "y_test_linear3_pred = model_linear3.predict(test_seq_label_a2)\n",
    "test3_mse = mean_squared_error(test_y, y_test_linear3_pred)\n",
    "test3_pearson = pearsonr(test_y, y_test_linear3_pred)[0]\n",
    "test3_spearmanr = spearmanr(test_y, y_test_linear3_pred).correlation    "
   ]
  },
  {
   "cell_type": "code",
   "execution_count": 41,
   "metadata": {
    "colab": {
     "base_uri": "https://localhost:8080/",
     "height": 286
    },
    "id": "8ec3zYAadxcB",
    "outputId": "7253c62a-4a3a-438c-f339-1f15c20cb8f9"
   },
   "outputs": [
    {
     "data": {
      "text/plain": [
       "<matplotlib.legend.Legend at 0x7f33c13c9750>"
      ]
     },
     "execution_count": 41,
     "metadata": {},
     "output_type": "execute_result"
    },
    {
     "data": {
      "image/png": "[encoded data removed]",
      "text/plain": [
       "<Figure size 432x288 with 1 Axes>"
      ]
     },
     "metadata": {
      "needs_background": "light"
     },
     "output_type": "display_data"
    }
   ],
   "source": [
    "X = ['rmse','pearson','spearman']\n",
    "mimo_results = [test_model_mse, test_model_pearson, test_model_spearmanr]\n",
    "lin1 = [test_mse, test_pearson, test_spearmanr]\n",
    "lin2 = [test2_mse, test2_pearson, test2_spearmanr]\n",
    "lin3 = [test3_mse, test3_pearson, test3_spearmanr]\n",
    "  \n",
    "X_axis = np.arange(len(X))\n",
    "\n",
    "wid = 0.1\n",
    "plt.bar(X_axis - wid*3, mimo_results, wid*2, label = 'MIMO')\n",
    "plt.bar(X_axis - wid*1, lin1, wid*2, label = 'Linear1')\n",
    "plt.bar(X_axis + wid*3, lin2, wid*2, label = 'Linear2')\n",
    "plt.bar(X_axis + wid*1, lin3, wid*2, label = 'Linear3')\n",
    "  \n",
    "plt.xticks(X_axis, X)\n",
    "plt.ylim([0,2])\n",
    "plt.legend()"
   ]
  },
  {
   "cell_type": "code",
   "execution_count": null,
   "metadata": {
    "id": "Gu7OypcadxgZ"
   },
   "outputs": [],
   "source": []
  },
  {
   "cell_type": "code",
   "execution_count": null,
   "metadata": {
    "id": "F63eaSSGdxki"
   },
   "outputs": [],
   "source": []
  }
 ],
 "metadata": {
  "accelerator": "GPU",
  "colab": {
   "collapsed_sections": [],
   "provenance": []
  },
  "gpuClass": "standard",
  "kernelspec": {
   "display_name": "Python 3",
   "language": "python",
   "name": "python3"
  },
  "language_info": {
   "codemirror_mode": {
    "name": "ipython",
    "version": 3
   },
   "file_extension": ".py",
   "mimetype": "text/x-python",
   "name": "python",
   "nbconvert_exporter": "python",
   "pygments_lexer": "ipython3",
   "version": "3.8.3"
  }
 },
 "nbformat": 4,
 "nbformat_minor": 1
}
